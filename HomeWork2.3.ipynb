{
 "cells": [
  {
   "cell_type": "markdown",
   "id": "8907a53e",
   "metadata": {},
   "source": [
    "Задание на повторение материала"
   ]
  },
  {
   "cell_type": "code",
   "execution_count": 1,
   "id": "26231813",
   "metadata": {},
   "outputs": [],
   "source": [
    "import numpy as np"
   ]
  },
  {
   "cell_type": "markdown",
   "id": "0ddbdfbf",
   "metadata": {},
   "source": [
    "1"
   ]
  },
  {
   "cell_type": "code",
   "execution_count": 5,
   "id": "87d0b155",
   "metadata": {},
   "outputs": [
    {
     "data": {
      "text/plain": [
       "array([12, 13, 14, 15, 16, 17, 18, 19, 20, 21, 22, 23])"
      ]
     },
     "execution_count": 5,
     "metadata": {},
     "output_type": "execute_result"
    }
   ],
   "source": [
    "a = np.arange(12, 24)\n",
    "a"
   ]
  },
  {
   "cell_type": "markdown",
   "id": "9a169d21",
   "metadata": {},
   "source": [
    "2"
   ]
  },
  {
   "cell_type": "code",
   "execution_count": 12,
   "id": "a20390c3",
   "metadata": {},
   "outputs": [
    {
     "name": "stdout",
     "output_type": "stream",
     "text": [
      "[[12 13 14 15]\n",
      " [16 17 18 19]\n",
      " [20 21 22 23]]\n",
      "[[12 13 14]\n",
      " [15 16 17]\n",
      " [18 19 20]\n",
      " [21 22 23]]\n",
      "[[12 13 14 15 16 17]\n",
      " [18 19 20 21 22 23]]\n",
      "[[12 13]\n",
      " [14 15]\n",
      " [16 17]\n",
      " [18 19]\n",
      " [20 21]\n",
      " [22 23]]\n",
      "[[12 13 14 15 16 17 18 19 20 21 22 23]]\n"
     ]
    }
   ],
   "source": [
    "print(a.reshape(3, 4))\n",
    "print(a.reshape(4, 3))\n",
    "print(a.reshape(2, 6))\n",
    "print(a.reshape(6, 2))\n",
    "print(a.reshape(1, 12))"
   ]
  },
  {
   "cell_type": "markdown",
   "id": "1cd9935e",
   "metadata": {},
   "source": [
    "3"
   ]
  },
  {
   "cell_type": "markdown",
   "id": "9f79f3b2",
   "metadata": {},
   "source": [
    "print(a.reshape(-1, 3))\n",
    "print(a.reshape(-1, 4))\n",
    "print(a.reshape(-1, 6))\n",
    "print(a.reshape(6, -1))\n",
    "print(a.reshape(12, -1))"
   ]
  },
  {
   "cell_type": "markdown",
   "id": "eedf1536",
   "metadata": {},
   "source": [
    "4 Нет"
   ]
  },
  {
   "cell_type": "markdown",
   "id": "7391240c",
   "metadata": {},
   "source": [
    "5"
   ]
  },
  {
   "cell_type": "code",
   "execution_count": 18,
   "id": "3c7bfbf2",
   "metadata": {},
   "outputs": [
    {
     "name": "stdout",
     "output_type": "stream",
     "text": [
      "[[0.15554994 0.03367206 0.86002722 0.92452184]\n",
      " [0.69159616 0.85317014 0.9691053  0.17400165]\n",
      " [0.40665691 0.98830925 0.25896358 0.21764969]]\n"
     ]
    }
   ],
   "source": [
    "b = np.random.rand(3, 4)\n",
    "print(b)"
   ]
  },
  {
   "cell_type": "code",
   "execution_count": 19,
   "id": "ab2e6ff0",
   "metadata": {},
   "outputs": [
    {
     "name": "stdout",
     "output_type": "stream",
     "text": [
      "[0.15554994 0.03367206 0.86002722 0.92452184 0.69159616 0.85317014\n",
      " 0.9691053  0.17400165 0.40665691 0.98830925 0.25896358 0.21764969]\n"
     ]
    }
   ],
   "source": [
    "c = b.flatten()\n",
    "print(c)"
   ]
  },
  {
   "cell_type": "markdown",
   "id": "340e24e8",
   "metadata": {},
   "source": [
    "6"
   ]
  },
  {
   "cell_type": "code",
   "execution_count": 23,
   "id": "88b9be68",
   "metadata": {},
   "outputs": [
    {
     "name": "stdout",
     "output_type": "stream",
     "text": [
      "[20 18 16 14 12 10  8  6  4  2]\n"
     ]
    }
   ],
   "source": [
    "a = np.arange(20, 0, -2)\n",
    "print(a)"
   ]
  },
  {
   "cell_type": "markdown",
   "id": "6269393c",
   "metadata": {},
   "source": [
    "7"
   ]
  },
  {
   "cell_type": "code",
   "execution_count": 24,
   "id": "a56452cd",
   "metadata": {},
   "outputs": [
    {
     "name": "stdout",
     "output_type": "stream",
     "text": [
      "[20 18 16 14 12 10  8  6  4  2]\n"
     ]
    }
   ],
   "source": [
    "b = np.arange(20, 1, -2)\n",
    "print(b)"
   ]
  },
  {
   "cell_type": "markdown",
   "id": "c982ce91",
   "metadata": {},
   "source": [
    "Между массивом а и b нет разницы"
   ]
  },
  {
   "cell_type": "markdown",
   "id": "686483b9",
   "metadata": {},
   "source": [
    "8"
   ]
  },
  {
   "cell_type": "code",
   "execution_count": 25,
   "id": "e7d878ab",
   "metadata": {},
   "outputs": [
    {
     "name": "stdout",
     "output_type": "stream",
     "text": [
      "[[0. 0.]\n",
      " [0. 0.]\n",
      " [0. 0.]\n",
      " [1. 1.]\n",
      " [1. 1.]]\n",
      "10\n"
     ]
    }
   ],
   "source": [
    "a = np.zeros((3, 2))\n",
    "b = np.ones((2, 2))\n",
    "v = np.vstack((a, b))\n",
    "print(v)\n",
    "print(v.size)"
   ]
  },
  {
   "cell_type": "markdown",
   "id": "064c9c73",
   "metadata": {},
   "source": [
    "9"
   ]
  },
  {
   "cell_type": "code",
   "execution_count": 32,
   "id": "561bf8a8",
   "metadata": {},
   "outputs": [
    {
     "name": "stdout",
     "output_type": "stream",
     "text": [
      "16\n"
     ]
    }
   ],
   "source": [
    "a = np.arange(0, 12)\n",
    "A = a.reshape(4, 3)\n",
    "At = A.T\n",
    "B = A.dot(At)\n",
    "print(B.size)"
   ]
  },
  {
   "cell_type": "code",
   "execution_count": 33,
   "id": "c7965668",
   "metadata": {},
   "outputs": [
    {
     "data": {
      "text/plain": [
       "0.0"
      ]
     },
     "execution_count": 33,
     "metadata": {},
     "output_type": "execute_result"
    }
   ],
   "source": [
    "d = np.linalg.det(B)\n",
    "d"
   ]
  },
  {
   "cell_type": "markdown",
   "id": "62bc07f9",
   "metadata": {},
   "source": [
    "Для матрицы B нельзя вычислить обратную мтрицу, так как определителдь равен 0"
   ]
  },
  {
   "cell_type": "markdown",
   "id": "6e003b1c",
   "metadata": {},
   "source": [
    "10"
   ]
  },
  {
   "cell_type": "code",
   "execution_count": 34,
   "id": "7e011b75",
   "metadata": {},
   "outputs": [],
   "source": [
    "np.random.seed(42)"
   ]
  },
  {
   "cell_type": "markdown",
   "id": "f25a6a6a",
   "metadata": {},
   "source": [
    "11"
   ]
  },
  {
   "cell_type": "code",
   "execution_count": 70,
   "id": "bc1a6493",
   "metadata": {},
   "outputs": [
    {
     "data": {
      "text/plain": [
       "array([ 3,  1,  8,  3,  3,  1, 11,  5, 10,  7, 10,  9, 12,  7,  9,  8])"
      ]
     },
     "execution_count": 70,
     "metadata": {},
     "output_type": "execute_result"
    }
   ],
   "source": [
    "c = np.random.randint(1, 16, 16)\n",
    "c"
   ]
  },
  {
   "cell_type": "markdown",
   "id": "3d05d1f0",
   "metadata": {},
   "source": [
    "12"
   ]
  },
  {
   "cell_type": "code",
   "execution_count": 75,
   "id": "877a386d",
   "metadata": {},
   "outputs": [
    {
     "data": {
      "text/plain": [
       "-3793200.000000008"
      ]
     },
     "execution_count": 75,
     "metadata": {},
     "output_type": "execute_result"
    }
   ],
   "source": [
    "C = c.reshape((4,4))\n",
    "C = C * 10\n",
    "D = B + C\n",
    "d = np.linalg.det(D)\n",
    "d"
   ]
  },
  {
   "cell_type": "code",
   "execution_count": 76,
   "id": "9f8e4bb9",
   "metadata": {},
   "outputs": [
    {
     "data": {
      "text/plain": [
       "4"
      ]
     },
     "execution_count": 76,
     "metadata": {},
     "output_type": "execute_result"
    }
   ],
   "source": [
    "r = np.linalg.matrix_rank(D)\n",
    "r"
   ]
  },
  {
   "cell_type": "code",
   "execution_count": 77,
   "id": "5bf7157a",
   "metadata": {},
   "outputs": [
    {
     "data": {
      "text/plain": [
       "array([[ 35,  44, 123, 152],\n",
       "       [ 24,  60, 156, 192],\n",
       "       [103, 196, 249, 302],\n",
       "       [ 62, 172, 302, 382]])"
      ]
     },
     "execution_count": 77,
     "metadata": {},
     "output_type": "execute_result"
    }
   ],
   "source": [
    "D_inv = D.T\n",
    "D_inv"
   ]
  }
 ],
 "metadata": {
  "kernelspec": {
   "display_name": "Python 3 (ipykernel)",
   "language": "python",
   "name": "python3"
  },
  "language_info": {
   "codemirror_mode": {
    "name": "ipython",
    "version": 3
   },
   "file_extension": ".py",
   "mimetype": "text/x-python",
   "name": "python",
   "nbconvert_exporter": "python",
   "pygments_lexer": "ipython3",
   "version": "3.9.7"
  }
 },
 "nbformat": 4,
 "nbformat_minor": 5
}
